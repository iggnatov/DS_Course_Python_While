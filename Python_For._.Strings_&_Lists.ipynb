{
 "cells": [
  {
   "cell_type": "markdown",
   "metadata": {},
   "source": [
    "# Строки"
   ]
  },
  {
   "cell_type": "markdown",
   "metadata": {},
   "source": [
    "### 1. Справочная информация\n",
    "\n",
    "Pythontutor.ru  \n",
    "http://pythontutor.ru/lessons/str/\n",
    "\n",
    "Тот же раздел (задачи) на informatics.msk.ru  \n",
    "https://informatics.msk.ru/mod/statements/view3.php?id=3863&chapterid=3748#1\n",
    "\n"
   ]
  },
  {
   "cell_type": "markdown",
   "metadata": {},
   "source": [
    "### 2. Теория\n"
   ]
  },
  {
   "cell_type": "code",
   "execution_count": 2,
   "metadata": {},
   "outputs": [
    {
     "name": "stdout",
     "output_type": "stream",
     "text": [
      "123\n",
      "<class 'str'>\n"
     ]
    }
   ],
   "source": [
    "# Результатом выполнения функции input() является cтрока. \n",
    "s = input()\n",
    "t = type(s) # type - возвращает тип объекта\n",
    "print(t)\n"
   ]
  },
  {
   "cell_type": "code",
   "execution_count": 3,
   "metadata": {},
   "outputs": [
    {
     "name": "stdout",
     "output_type": "stream",
     "text": [
      "123\n",
      "123\n",
      "123123\n",
      "1233\n",
      "123312331233\n"
     ]
    }
   ],
   "source": [
    "# Для строк возможна операция сложения (конкатенации)\n",
    "a = input()\n",
    "b = input()\n",
    "print(a + b)\n",
    "\n",
    "# Также определена операция умножения строки на число.\n",
    "c = input()\n",
    "print(c * 3)\n"
   ]
  },
  {
   "cell_type": "code",
   "execution_count": 4,
   "metadata": {},
   "outputs": [
    {
     "name": "stdout",
     "output_type": "stream",
     "text": [
      "13\n"
     ]
    }
   ],
   "source": [
    "# Строка состоит из последовательности символов. \n",
    "# Длину строки можно узнать при помощи функции len.\n",
    "\n",
    "s = 'Hello, Harry!'\n",
    "print(len(s)) # 13"
   ]
  },
  {
   "cell_type": "code",
   "execution_count": 9,
   "metadata": {},
   "outputs": [
    {
     "name": "stdout",
     "output_type": "stream",
     "text": [
      "456\n",
      "a =  456 | type(a) =  <class 'int'>\n",
      "b =  456 | type(b) =  <class 'str'>\n"
     ]
    }
   ],
   "source": [
    "# Любой другой объект в Питоне можно перевести к строке. \n",
    "# Для этого нужно вызвать функцию str()\n",
    "\n",
    "a = int(input())\n",
    "print('a = ', a, '| type(a) = ', type(a)) # целое число\n",
    "b = str(a)\n",
    "print('b = ', b, '| type(b) = ', type(b)) # строка"
   ]
  },
  {
   "cell_type": "markdown",
   "metadata": {},
   "source": [
    "### 2.1 Задачи\n",
    "1. Напишите программу, которая на вход принимает строку и считает количество символов в ней. Вычислите количество символов в Вашем имени."
   ]
  },
  {
   "cell_type": "code",
   "execution_count": null,
   "metadata": {},
   "outputs": [],
   "source": []
  },
  {
   "cell_type": "markdown",
   "metadata": {},
   "source": [
    "### 3. Срезы"
   ]
  },
  {
   "cell_type": "code",
   "execution_count": 10,
   "metadata": {},
   "outputs": [
    {
     "name": "stdout",
     "output_type": "stream",
     "text": [
      "H\n"
     ]
    }
   ],
   "source": [
    "# Срез (slice) — извлечение из данной строки одного символа или некоторого фрагмента подстроки или подпоследовательности.\n",
    "# Самая простая форма среза: взятие одного символа строки:\n",
    "s = 'Hello, Harry!'\n",
    "print(s[0]) # 'H'\n",
    "\n"
   ]
  },
  {
   "cell_type": "code",
   "execution_count": 11,
   "metadata": {},
   "outputs": [
    {
     "name": "stdout",
     "output_type": "stream",
     "text": [
      "!\n"
     ]
    }
   ],
   "source": [
    "# Если указать отрицательное значение индекса, то номер будет отсчитываться с конца, начиная с номера -1\n",
    "s = 'Hello, Harry!'\n",
    "print(s[-1])"
   ]
  },
  {
   "cell_type": "code",
   "execution_count": 12,
   "metadata": {},
   "outputs": [
    {
     "name": "stdout",
     "output_type": "stream",
     "text": [
      "el\n"
     ]
    }
   ],
   "source": [
    "# Срез с двумя параметрами: S[a:b] возвращает подстроку из b - a символов, начиная с символа c индексом a:\n",
    "s = 'Hello, Harry!'\n",
    "print(s[1:3])"
   ]
  },
  {
   "cell_type": "code",
   "execution_count": 15,
   "metadata": {},
   "outputs": [
    {
     "name": "stdout",
     "output_type": "stream",
     "text": [
      "el,\n"
     ]
    }
   ],
   "source": [
    "# Если задать срез с тремя параметрами S[a:b:d], то третий параметр задает шаг, как в случае с функцией range\n",
    "s = 'Hello, Harry!'\n",
    "print(s[1:7:2])"
   ]
  },
  {
   "cell_type": "markdown",
   "metadata": {},
   "source": [
    "### 4. Методы  \n",
    "\n",
    "Метод — это функция, применяемая к объекту.  \n",
    "Метод вызывается в виде Имя_объекта.Имя_метода(параметры). "
   ]
  },
  {
   "cell_type": "markdown",
   "metadata": {},
   "source": [
    "###### find\n",
    "Метод find находит в данной строке (к которой применяется метод) данную подстроку (которая передается в качестве параметра). Функция возвращает индекс первого вхождения искомой подстроки. Если же подстрока не найдена, то метод возвращает значение -1."
   ]
  },
  {
   "cell_type": "code",
   "execution_count": 16,
   "metadata": {},
   "outputs": [
    {
     "name": "stdout",
     "output_type": "stream",
     "text": [
      "1\n"
     ]
    }
   ],
   "source": [
    "s = 'Hello, Harry!'\n",
    "print(s.find('e'))"
   ]
  },
  {
   "cell_type": "markdown",
   "metadata": {},
   "source": [
    "###### rfind\n",
    "Метод rfind возвращает индекс последнего вхождения данной строки (“поиск справа”)."
   ]
  },
  {
   "cell_type": "code",
   "execution_count": 18,
   "metadata": {},
   "outputs": [
    {
     "name": "stdout",
     "output_type": "stream",
     "text": [
      "3\n"
     ]
    }
   ],
   "source": [
    "s = 'Hello, Harry!'\n",
    "print(s.rfind('l'))"
   ]
  },
  {
   "cell_type": "markdown",
   "metadata": {},
   "source": [
    "Если вызвать метод find с тремя параметрами S.find(T, a, b), то поиск будет осуществляться в срезе S[a:b]. Если указать только два параметра S.find(T, a), то поиск будет осуществляться в срезе S[a:], то есть начиная с символа с индексом a и до конца строки. Метод S.find(T, a, b) возращает индекс в строке S, а не индекс относительно среза."
   ]
  },
  {
   "cell_type": "markdown",
   "metadata": {},
   "source": [
    "###### replace\n",
    "Метод replace заменяет все вхождения одной строки на другую. Формат: S.replace(old, new)"
   ]
  },
  {
   "cell_type": "code",
   "execution_count": 19,
   "metadata": {},
   "outputs": [
    {
     "name": "stdout",
     "output_type": "stream",
     "text": [
      "HePPo, Harry!\n"
     ]
    }
   ],
   "source": [
    "s = 'Hello, Harry!'\n",
    "print(s.replace('l', 'P'))"
   ]
  },
  {
   "cell_type": "markdown",
   "metadata": {},
   "source": [
    "###### count\n",
    "Подсчитывает количество вхождений одной строки в другую строку."
   ]
  },
  {
   "cell_type": "code",
   "execution_count": 20,
   "metadata": {},
   "outputs": [
    {
     "name": "stdout",
     "output_type": "stream",
     "text": [
      "2\n"
     ]
    }
   ],
   "source": [
    "s = 'Hello, Harry!'\n",
    "print(s.count('r'))"
   ]
  },
  {
   "cell_type": "markdown",
   "metadata": {},
   "source": [
    "# Списки\n",
    "\n",
    "### 1. Справочная информация\n",
    "Pythontutor.ru    \n",
    "http://pythontutor.ru/lessons/lists/#section_2  \n",
    "\n",
    "Задачи на informatics.msk.ru  \n",
    "https://informatics.msk.ru/mod/statements/view.php?id=4163#1"
   ]
  },
  {
   "cell_type": "markdown",
   "metadata": {},
   "source": [
    "### 2. Теория\n",
    "\n",
    "Для хранения таких данных можно использовать структуру данных, называемую в Питоне список (в большинстве же языков программирования используется другой термин “массив”). Список представляет собой последовательность элементов, пронумерованных от 0, как символы в строке. "
   ]
  },
  {
   "cell_type": "code",
   "execution_count": 22,
   "metadata": {},
   "outputs": [
    {
     "name": "stdout",
     "output_type": "stream",
     "text": [
      "[1, 2, 3]\n"
     ]
    }
   ],
   "source": [
    "# Создание списка 1\n",
    "s = [1, 2, 3] # список из 3 чисел\n",
    "print(s)"
   ]
  },
  {
   "cell_type": "code",
   "execution_count": 23,
   "metadata": {},
   "outputs": [
    {
     "name": "stdout",
     "output_type": "stream",
     "text": [
      "['1', '2', '3']\n"
     ]
    }
   ],
   "source": [
    "# Создание списка 2\n",
    "s = ['1', '2', '3'] # список из 3 строк\n",
    "print(s)"
   ]
  },
  {
   "cell_type": "code",
   "execution_count": 24,
   "metadata": {},
   "outputs": [
    {
     "name": "stdout",
     "output_type": "stream",
     "text": [
      "[]\n"
     ]
    }
   ],
   "source": [
    "# Создание списка 3\n",
    "s = []\n",
    "print(s)"
   ]
  },
  {
   "cell_type": "code",
   "execution_count": null,
   "metadata": {},
   "outputs": [],
   "source": [
    "# Создание списка 4\n",
    "s = []\n",
    "s.append(1) # Добавляем в список элемент - число 1\n",
    "print(s)"
   ]
  },
  {
   "cell_type": "markdown",
   "metadata": {},
   "source": [
    "### 3. Примеры"
   ]
  },
  {
   "cell_type": "code",
   "execution_count": 1,
   "metadata": {},
   "outputs": [
    {
     "name": "stdout",
     "output_type": "stream",
     "text": [
      "3\n",
      "1\n",
      "2\n",
      "3\n",
      "[1, 2, 3]\n"
     ]
    }
   ],
   "source": [
    "# Пример 1\n",
    "a = []  # заводим пустой список\n",
    "n = int(input())  # считываем количество элемент в списке\n",
    "for i in range(n):  \n",
    "    new_element = int(input())  # считываем очередной элемент\n",
    "    a.append(new_element)  # добавляем его в список\n",
    "    # последние две строки можно было заменить одной:\n",
    "    # a.append(int(input()))\n",
    "print(a)"
   ]
  },
  {
   "cell_type": "code",
   "execution_count": 2,
   "metadata": {},
   "outputs": [
    {
     "name": "stdout",
     "output_type": "stream",
     "text": [
      "2\n",
      "2\n",
      "2\n",
      "[2, 2]\n"
     ]
    }
   ],
   "source": [
    "# Пример 2\n",
    "a = []\n",
    "for i in range(int(input())):\n",
    "    a.append(int(input()))\n",
    "print(a)\n"
   ]
  },
  {
   "cell_type": "code",
   "execution_count": 3,
   "metadata": {},
   "outputs": [
    {
     "name": "stdout",
     "output_type": "stream",
     "text": [
      "1\n",
      "2\n",
      "3\n",
      "4\n",
      "5\n"
     ]
    }
   ],
   "source": [
    "# Пример 3. Вывод элементов списка\n",
    "a = [1, 2, 3, 4, 5]\n",
    "for i in range(len(a)):\n",
    "    print(a[i])\n"
   ]
  },
  {
   "cell_type": "code",
   "execution_count": 4,
   "metadata": {},
   "outputs": [
    {
     "name": "stdout",
     "output_type": "stream",
     "text": [
      "1 2 3 4 5 "
     ]
    }
   ],
   "source": [
    "# Пример 4. Вывод элементов списка\n",
    "a = [1, 2, 3, 4, 5]\n",
    "for elem in a:\n",
    "    print(elem, end=' ')"
   ]
  },
  {
   "cell_type": "markdown",
   "metadata": {},
   "source": [
    "### 4. Метод split \n",
    "\n",
    "Элементы списка могут вводиться по одному в строке, в этом случае строку целиком можно считать функцией input(). После этого можно использовать метод строки split(), возвращающий список строк, которые получатся, если исходную строку разрезать на части по пробелам."
   ]
  },
  {
   "cell_type": "code",
   "execution_count": 5,
   "metadata": {},
   "outputs": [
    {
     "name": "stdout",
     "output_type": "stream",
     "text": [
      "12\n",
      "['12']\n"
     ]
    }
   ],
   "source": [
    "# на вход подаётся строка\n",
    "# 1 2 3\n",
    "s = input()  # s == '1 2 3'\n",
    "a = s.split()  # a == ['1', '2', '3']\n",
    "print(a)"
   ]
  },
  {
   "cell_type": "code",
   "execution_count": 7,
   "metadata": {},
   "outputs": [
    {
     "name": "stdout",
     "output_type": "stream",
     "text": [
      "1 2 3\n",
      "[1, 2, 3]\n"
     ]
    }
   ],
   "source": [
    "a = input().split()\n",
    "for i in range(len(a)):\n",
    "    a[i] = int(a[i])\n",
    "    \n",
    "print(a)"
   ]
  },
  {
   "cell_type": "code",
   "execution_count": null,
   "metadata": {},
   "outputs": [],
   "source": []
  }
 ],
 "metadata": {
  "kernelspec": {
   "display_name": "Python 3",
   "language": "python",
   "name": "python3"
  },
  "language_info": {
   "codemirror_mode": {
    "name": "ipython",
    "version": 3
   },
   "file_extension": ".py",
   "mimetype": "text/x-python",
   "name": "python",
   "nbconvert_exporter": "python",
   "pygments_lexer": "ipython3",
   "version": "3.7.0"
  }
 },
 "nbformat": 4,
 "nbformat_minor": 2
}
